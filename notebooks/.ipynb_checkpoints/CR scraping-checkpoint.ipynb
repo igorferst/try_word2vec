{
 "cells": [
  {
   "cell_type": "code",
   "execution_count": 1,
   "metadata": {},
   "outputs": [],
   "source": [
    "import re\n",
    "import requests\n",
    "from bs4 import BeautifulSoup"
   ]
  },
  {
   "cell_type": "code",
   "execution_count": 152,
   "metadata": {},
   "outputs": [],
   "source": [
    "# Get a page\n",
    "headers = {'User-Agent': 'Mozilla/5.0 (Macintosh; Intel Mac OS X 10_10_1) AppleWebKit/537.36 (KHTML, like Gecko) Chrome/39.0.2171.95 Safari/537.36'}\n",
    "url = 'https://www.congress.gov/congressional-record/2018/02/12/senate-section'\n",
    "\n",
    "response = requests.get(url, headers=headers)\n",
    "soup = BeautifulSoup(response.text, 'html.parser')"
   ]
  },
  {
   "cell_type": "code",
   "execution_count": 153,
   "metadata": {},
   "outputs": [],
   "source": [
    "# Extract links"
   ]
  },
  {
   "cell_type": "code",
   "execution_count": 154,
   "metadata": {},
   "outputs": [],
   "source": [
    "table_rows = soup.find('table', class_='item_table').find_all('tr')\n",
    "a_elts = [tr.find('a') for tr in table_rows]\n",
    "a_elts = [a for a in a_elts if a is not None]\n",
    "links = {a.string: 'https://www.congress.gov' + a.get('href') for a in a_elts}"
   ]
  },
  {
   "cell_type": "code",
   "execution_count": 155,
   "metadata": {},
   "outputs": [],
   "source": [
    "l = links['IMMIGRATION']"
   ]
  },
  {
   "cell_type": "code",
   "execution_count": 156,
   "metadata": {},
   "outputs": [
    {
     "name": "stdout",
     "output_type": "stream",
     "text": [
      "        \n",
      "[Congressional Record Volume 164, Number 27 (Monday, February 12, 2018)]\n",
      "[Pages S855-S856]\n",
      "From the Congressional Record Online through the Government Publishing Office [www.gpo.gov]\n",
      "\n",
      "\n",
      "\n",
      "\n",
      "                              IMMIGRATION\n",
      "\n",
      "  Mr. McCONNELL. Now on another matter, Mr. President, as I have \n",
      "repeatedly stated, now that there is an agreement on long-term \n",
      "government funding, the Senate will proceed to a fair debate over the \n",
      "DACA issue, border security, and other matters pertaining to the \n",
      "subject of immigration. This process begins in just a few hours. We \n",
      "will vote to proceed to an unrelated, neutral House-passed bill that \n",
      "will serve as the vehicle for any legislation that succeeds here in the \n",
      "Senate. As I have repeated many times, I will ensure that a fair \n",
      "amendment process gives Senators the opportunity to submit proposals \n",
      "for consideration and votes. I hope this body can seize this \n",
      "opportunity and deliver real progress toward securing our border, \n",
      "reforming aspects of our immigration policy, and achieving a resolution \n",
      "for individuals who were brought to our country illegally when they \n",
      "were young.\n",
      "  The American people have heard no shortage of rhetoric on this issue. \n",
      "They have heard many of my colleagues across the aisle insist that this \n",
      "issue requires swift action. Now is the time to back up this talk with \n",
      "the hard work of finding a workable solution. That means finding an \n",
      "agreement which can pass the Senate, pass the\n",
      "\n",
      "[[Page S856]]\n",
      "\n",
      "House, and which the President will sign--not just making a point.\n",
      "  A number of my colleagues--Senators Grassley, Cornyn, Tillis, Perdue, \n",
      "Lankford, Cotton, and Ernst--will introduce a balanced proposal that \n",
      "tries to meet these requirements. I support the President's proposal \n",
      "and my colleagues' legislation to implement it.\n",
      "  The Secure and Succeed Act is fair and addresses both sides' most \n",
      "pressing concerns, conforming to the conditions the President has put \n",
      "forward. It offers a compassionate resolution for 1.8 million illegal \n",
      "immigrants who were brought to the United States as children. In \n",
      "exchange, this solution delivers funding for President Trump's promise \n",
      "to fully secure the border, reforms our approach to extended family \n",
      "chain migration, and reallocates our arbitrary visa lottery into a more \n",
      "sensible, merit-based system.\n",
      "  This legislation is a fair compromise that addresses the stated \n",
      "priorities of all sides. It is our best chance of producing a solution \n",
      "that can actually resolve these matters, which requires that a bill \n",
      "pass the Senate, pass the House, and earn the President's signature. It \n",
      "has my support.\n",
      "  The time for political posturing is behind us. Now we have an \n",
      "opportunity to resolve these issues. I hope we make the most of it.\n",
      "\n",
      "                          ____________________\n",
      "\n",
      "\n",
      "\n",
      "    \n"
     ]
    }
   ],
   "source": [
    "item_page = requests.get(l, headers=headers)\n",
    "soup = BeautifulSoup(item_page.text, 'html.parser')\n",
    "text = soup.find('pre').get_text()\n",
    "print(text)"
   ]
  },
  {
   "cell_type": "code",
   "execution_count": 160,
   "metadata": {},
   "outputs": [
    {
     "name": "stdout",
     "output_type": "stream",
     "text": [
      "\n",
      "### Congressional Record Volume 164, Number 27 (Monday, February 12, 2018) ###\n",
      "### Pages S855-S856 ###\n",
      "### IMMIGRATION ###\n",
      "Mr. McCONNELL. Now on another matter, Mr. President, as I have repeatedly stated, now that there is an agreement on long-term government funding, the Senate will proceed to a fair debate over the DACA issue, border security, and other matters pertaining to the subject of immigration. This process begins in just a few hours. We will vote to proceed to an unrelated, neutral House-passed bill that will serve as the vehicle for any legislation that succeeds here in the Senate. As I have repeated many times, I will ensure that a fair amendment process gives Senators the opportunity to submit proposals for consideration and votes. I hope this body can seize this opportunity and deliver real progress toward securing our border, reforming aspects of our immigration policy, and achieving a resolution for individuals who were brought to our country illegally when they were young. The American people have heard no shortage of rhetoric on this issue. They have heard many of my colleagues across the aisle insist that this issue requires swift action. Now is the time to back up this talk with the hard work of finding a workable solution. That means finding an agreement which can pass the Senate, pass the House, and which the President will sign--not just making a point. A number of my colleagues--Senators Grassley, Cornyn, Tillis, Perdue, Lankford, Cotton, and Ernst--will introduce a balanced proposal that tries to meet these requirements. I support the President's proposal and my colleagues' legislation to implement it. The Secure and Succeed Act is fair and addresses both sides' most pressing concerns, conforming to the conditions the President has put forward. It offers a compassionate resolution for 1.8 million illegal immigrants who were brought to the United States as children. In exchange, this solution delivers funding for President Trump's promise to fully secure the border, reforms our approach to extended family chain migration, and reallocates our arbitrary visa lottery into a more sensible, merit-based system. This legislation is a fair compromise that addresses the stated priorities of all sides. It is our best chance of producing a solution that can actually resolve these matters, which requires that a bill pass the Senate, pass the House, and earn the President's signature. It has my support. The time for political posturing is behind us. Now we have an opportunity to resolve these issues. I hope we make the most of it. \n"
     ]
    }
   ],
   "source": [
    "tp = text\n",
    "def header_transform(match):\n",
    "    return f'### {match.group(1)} ###'\n",
    "\n",
    "# Remove page break indicators, e.g. [[Page S856]]\n",
    "tp = re.sub('\\n\\n\\[\\[.*\\]\\]\\n\\n', ' ', tp)\n",
    "\n",
    "# Transform the header, replacing '[foo]' with '### foo ###' and removing an unhelpful line\n",
    "tp = re.sub('^\\[(.*)\\]$', header_transform, tp, flags=re.MULTILINE)\n",
    "tp = re.sub('From the Congressional Record Online through the Government Publishing Office \\[www.gpo.gov\\]', '', tp)\n",
    "\n",
    "# Format title like header\n",
    "tp = re.sub(' *IMMIGRATION', '### IMMIGRATION ###', tp)\n",
    "\n",
    "# Remove footer line\n",
    "tp = re.sub(' *____________________', '', tp)\n",
    "\n",
    "# Collapse multiple line breaks\n",
    "tp = re.sub('[\\n]{2,}', '\\n', tp)\n",
    "\n",
    "# Remove all line breaks in main body\n",
    "tp = re.sub('  ', '', tp)\n",
    "tp = re.sub(' \\n', ' ', tp)\n",
    "tp = re.sub('\\.\\n', '. ', tp)\n",
    "\n",
    "print(tp)"
   ]
  },
  {
   "cell_type": "code",
   "execution_count": null,
   "metadata": {},
   "outputs": [],
   "source": []
  }
 ],
 "metadata": {
  "kernelspec": {
   "display_name": "Python 3",
   "language": "python",
   "name": "python3"
  },
  "language_info": {
   "codemirror_mode": {
    "name": "ipython",
    "version": 3
   },
   "file_extension": ".py",
   "mimetype": "text/x-python",
   "name": "python",
   "nbconvert_exporter": "python",
   "pygments_lexer": "ipython3",
   "version": "3.6.4"
  }
 },
 "nbformat": 4,
 "nbformat_minor": 2
}
