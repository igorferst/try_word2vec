{
 "cells": [
  {
   "cell_type": "code",
   "execution_count": 1,
   "metadata": {},
   "outputs": [],
   "source": [
    "from gensim.models.keyedvectors import KeyedVectors"
   ]
  },
  {
   "cell_type": "code",
   "execution_count": 2,
   "metadata": {},
   "outputs": [],
   "source": [
    "model = KeyedVectors.load_word2vec_format('../GoogleNews-vectors-negative300.bin', binary=True, limit=10000)  "
   ]
  },
  {
   "cell_type": "code",
   "execution_count": 3,
   "metadata": {},
   "outputs": [
    {
     "name": "stdout",
     "output_type": "stream",
     "text": [
      "</s>\n",
      "in\n",
      "for\n",
      "that\n",
      "is\n",
      "on\n",
      "##\n",
      "The\n",
      "with\n",
      "said\n",
      "was\n",
      "the\n",
      "at\n",
      "not\n",
      "as\n",
      "it\n",
      "be\n",
      "from\n",
      "by\n",
      "are\n",
      "I\n",
      "have\n",
      "he\n",
      "will\n",
      "has\n",
      "####\n",
      "his\n",
      "an\n",
      "this\n",
      "or\n",
      "their\n",
      "who\n",
      "they\n",
      "but\n",
      "$\n",
      "had\n",
      "year\n",
      "were\n",
      "we\n",
      "more\n",
      "###\n",
      "up\n",
      "been\n",
      "you\n",
      "its\n",
      "one\n",
      "about\n",
      "would\n",
      "which\n",
      "out\n",
      "can\n",
      "It\n",
      "all\n",
      "also\n",
      "two\n",
      "after\n",
      "first\n",
      "He\n",
      "do\n",
      "time\n",
      "than\n",
      "when\n",
      "We\n",
      "over\n",
      "last\n",
      "new\n",
      "other\n",
      "her\n",
      "people\n",
      "into\n",
      "In\n",
      "our\n",
      "there\n",
      "A\n",
      "she\n",
      "could\n",
      "just\n",
      "years\n",
      "some\n",
      "U.S.\n",
      "three\n",
      "million\n",
      "them\n",
      "what\n",
      "But\n",
      "so\n",
      "no\n",
      "like\n",
      "if\n",
      "only\n",
      "percent\n",
      "get\n",
      "did\n",
      "him\n",
      "game\n",
      "back\n",
      "because\n",
      "now\n",
      "#.#\n",
      "before\n"
     ]
    }
   ],
   "source": [
    "word_iter = iter(model.vocab.keys())\n",
    "for i in range(0,100):\n",
    "    print(next(word_iter))"
   ]
  },
  {
   "cell_type": "code",
   "execution_count": 16,
   "metadata": {},
   "outputs": [
    {
     "data": {
      "text/plain": [
       "False"
      ]
     },
     "execution_count": 16,
     "metadata": {},
     "output_type": "execute_result"
    }
   ],
   "source": [
    "'poland' in model"
   ]
  },
  {
   "cell_type": "code",
   "execution_count": 17,
   "metadata": {},
   "outputs": [
    {
     "data": {
      "text/plain": [
       "True"
      ]
     },
     "execution_count": 17,
     "metadata": {},
     "output_type": "execute_result"
    }
   ],
   "source": [
    "'Poland' in model"
   ]
  },
  {
   "cell_type": "code",
   "execution_count": 18,
   "metadata": {},
   "outputs": [
    {
     "data": {
      "text/plain": [
       "0.7664012230995352"
      ]
     },
     "execution_count": 18,
     "metadata": {},
     "output_type": "execute_result"
    }
   ],
   "source": [
    "model.similarity('woman', 'man')"
   ]
  },
  {
   "cell_type": "code",
   "execution_count": 19,
   "metadata": {},
   "outputs": [
    {
     "data": {
      "text/plain": [
       "0.013964970442407429"
      ]
     },
     "execution_count": 19,
     "metadata": {},
     "output_type": "execute_result"
    }
   ],
   "source": [
    "model.similarity('woman', 'Poland')"
   ]
  },
  {
   "cell_type": "code",
   "execution_count": 20,
   "metadata": {},
   "outputs": [
    {
     "data": {
      "text/plain": [
       "[('woman', 0.7664012908935547),\n",
       " ('boy', 0.6824870109558105),\n",
       " ('teenager', 0.6586930155754089),\n",
       " ('girl', 0.5921714305877686),\n",
       " ('men', 0.5489763021469116),\n",
       " ('guy', 0.5420035123825073),\n",
       " ('person', 0.5342026352882385),\n",
       " ('Man', 0.5316052436828613),\n",
       " ('suspect', 0.5247484445571899),\n",
       " ('victim', 0.523030161857605)]"
      ]
     },
     "execution_count": 20,
     "metadata": {},
     "output_type": "execute_result"
    }
   ],
   "source": [
    "model.similar_by_word('man')"
   ]
  },
  {
   "cell_type": "code",
   "execution_count": 21,
   "metadata": {},
   "outputs": [
    {
     "data": {
      "text/plain": [
       "[('man', 1.0),\n",
       " ('woman', 0.7664012908935547),\n",
       " ('boy', 0.6824870109558105),\n",
       " ('teenager', 0.6586930155754089),\n",
       " ('girl', 0.5921714305877686),\n",
       " ('men', 0.5489763021469116),\n",
       " ('guy', 0.5420035123825073),\n",
       " ('person', 0.5342026948928833),\n",
       " ('Man', 0.5316052436828613),\n",
       " ('suspect', 0.5247484445571899)]"
      ]
     },
     "execution_count": 21,
     "metadata": {},
     "output_type": "execute_result"
    }
   ],
   "source": [
    "model.similar_by_vector(model.word_vec('man'))"
   ]
  },
  {
   "cell_type": "code",
   "execution_count": null,
   "metadata": {},
   "outputs": [],
   "source": []
  }
 ],
 "metadata": {
  "kernelspec": {
   "display_name": "Python 3",
   "language": "python",
   "name": "python3"
  },
  "language_info": {
   "codemirror_mode": {
    "name": "ipython",
    "version": 3
   },
   "file_extension": ".py",
   "mimetype": "text/x-python",
   "name": "python",
   "nbconvert_exporter": "python",
   "pygments_lexer": "ipython3",
   "version": "3.6.3"
  }
 },
 "nbformat": 4,
 "nbformat_minor": 2
}
